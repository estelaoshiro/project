{
 "cells": [
  {
   "cell_type": "code",
   "execution_count": 4,
   "id": "8d2a7ef6",
   "metadata": {},
   "outputs": [],
   "source": [
    "import pandas as pd"
   ]
  },
  {
   "cell_type": "code",
   "execution_count": 9,
   "id": "876a0e28",
   "metadata": {},
   "outputs": [
    {
     "data": {
      "text/html": [
       "<div>\n",
       "<style scoped>\n",
       "    .dataframe tbody tr th:only-of-type {\n",
       "        vertical-align: middle;\n",
       "    }\n",
       "\n",
       "    .dataframe tbody tr th {\n",
       "        vertical-align: top;\n",
       "    }\n",
       "\n",
       "    .dataframe thead th {\n",
       "        text-align: right;\n",
       "    }\n",
       "</style>\n",
       "<table border=\"1\" class=\"dataframe\">\n",
       "  <thead>\n",
       "    <tr style=\"text-align: right;\">\n",
       "      <th></th>\n",
       "      <th>UNIQUE_ID</th>\n",
       "      <th>DATE</th>\n",
       "      <th>TIME</th>\n",
       "      <th>DATE_TIME</th>\n",
       "      <th>AGENCY</th>\n",
       "      <th>AGENCY_NAME</th>\n",
       "      <th>INQUIRY_NAME</th>\n",
       "      <th>BRIEF_DESCRIPTION</th>\n",
       "      <th>CALL_RESOLUTION</th>\n",
       "    </tr>\n",
       "  </thead>\n",
       "  <tbody>\n",
       "    <tr>\n",
       "      <th>0</th>\n",
       "      <td>114750597</td>\n",
       "      <td>02/16/2016</td>\n",
       "      <td>3:00:02 PM</td>\n",
       "      <td>02/16/2016 03:00:02 PM</td>\n",
       "      <td>HPD</td>\n",
       "      <td>Department of Housing Preservation and Develop...</td>\n",
       "      <td>Water Complaint - Apartment</td>\n",
       "      <td>Report from a tenant about no water, low water...</td>\n",
       "      <td>Information Provided</td>\n",
       "    </tr>\n",
       "    <tr>\n",
       "      <th>1</th>\n",
       "      <td>114750598</td>\n",
       "      <td>02/16/2016</td>\n",
       "      <td>10:14:24 AM</td>\n",
       "      <td>02/16/2016 10:14:24 AM</td>\n",
       "      <td>NYSTAX</td>\n",
       "      <td>NYS Department of Taxation and Finance</td>\n",
       "      <td>New York State Tax Information</td>\n",
       "      <td>Information about taxes collected by New York ...</td>\n",
       "      <td>Referral</td>\n",
       "    </tr>\n",
       "    <tr>\n",
       "      <th>2</th>\n",
       "      <td>114750599</td>\n",
       "      <td>02/16/2016</td>\n",
       "      <td>4:51:03 PM</td>\n",
       "      <td>02/16/2016 04:51:03 PM</td>\n",
       "      <td>DOB</td>\n",
       "      <td>Department of Buildings</td>\n",
       "      <td>Elevator or Escalator Defective or Without Permit</td>\n",
       "      <td>Report an elevator or escalator that is not wo...</td>\n",
       "      <td>Universal Intake SR</td>\n",
       "    </tr>\n",
       "    <tr>\n",
       "      <th>3</th>\n",
       "      <td>114750600</td>\n",
       "      <td>02/16/2016</td>\n",
       "      <td>9:46:39 PM</td>\n",
       "      <td>02/16/2016 09:46:39 PM</td>\n",
       "      <td>3-1-1</td>\n",
       "      <td>3-1-1 Call Center</td>\n",
       "      <td>Service Request Status - DEP Status Not Found</td>\n",
       "      <td>Department of Environmental Protection request...</td>\n",
       "      <td>Transfer to City Agency</td>\n",
       "    </tr>\n",
       "    <tr>\n",
       "      <th>4</th>\n",
       "      <td>114750601</td>\n",
       "      <td>02/16/2016</td>\n",
       "      <td>1:13:21 PM</td>\n",
       "      <td>02/16/2016 01:13:21 PM</td>\n",
       "      <td>3-1-1</td>\n",
       "      <td>3-1-1 Call Center</td>\n",
       "      <td>Division Transfer</td>\n",
       "      <td>Hidden service for activity coding.</td>\n",
       "      <td>Internal Transfer</td>\n",
       "    </tr>\n",
       "  </tbody>\n",
       "</table>\n",
       "</div>"
      ],
      "text/plain": [
       "   UNIQUE_ID        DATE         TIME               DATE_TIME  AGENCY  \\\n",
       "0  114750597  02/16/2016   3:00:02 PM  02/16/2016 03:00:02 PM     HPD   \n",
       "1  114750598  02/16/2016  10:14:24 AM  02/16/2016 10:14:24 AM  NYSTAX   \n",
       "2  114750599  02/16/2016   4:51:03 PM  02/16/2016 04:51:03 PM     DOB   \n",
       "3  114750600  02/16/2016   9:46:39 PM  02/16/2016 09:46:39 PM   3-1-1   \n",
       "4  114750601  02/16/2016   1:13:21 PM  02/16/2016 01:13:21 PM   3-1-1   \n",
       "\n",
       "                                         AGENCY_NAME  \\\n",
       "0  Department of Housing Preservation and Develop...   \n",
       "1             NYS Department of Taxation and Finance   \n",
       "2                            Department of Buildings   \n",
       "3                                  3-1-1 Call Center   \n",
       "4                                  3-1-1 Call Center   \n",
       "\n",
       "                                        INQUIRY_NAME  \\\n",
       "0                        Water Complaint - Apartment   \n",
       "1                     New York State Tax Information   \n",
       "2  Elevator or Escalator Defective or Without Permit   \n",
       "3      Service Request Status - DEP Status Not Found   \n",
       "4                                  Division Transfer   \n",
       "\n",
       "                                   BRIEF_DESCRIPTION          CALL_RESOLUTION  \n",
       "0  Report from a tenant about no water, low water...     Information Provided  \n",
       "1  Information about taxes collected by New York ...                 Referral  \n",
       "2  Report an elevator or escalator that is not wo...      Universal Intake SR  \n",
       "3  Department of Environmental Protection request...  Transfer to City Agency  \n",
       "4                Hidden service for activity coding.        Internal Transfer  "
      ]
     },
     "execution_count": 9,
     "metadata": {},
     "output_type": "execute_result"
    }
   ],
   "source": [
    "data = pd.read_csv('311_Call_Center_Inquiry.csv', nrows=5)\n",
    "data"
   ]
  },
  {
   "cell_type": "code",
   "execution_count": 12,
   "id": "c62b3f48",
   "metadata": {},
   "outputs": [
    {
     "name": "stderr",
     "output_type": "stream",
     "text": [
      "/var/folders/s6/37bcs8j95w30c53jbkmzmjnh0000gn/T/ipykernel_19777/1486081519.py:8: DtypeWarning: Columns (4) have mixed types. Specify dtype option on import or set low_memory=False.\n",
      "  for chunk in pd.read_csv(file_path, usecols=['UNIQUE_ID', 'DATE_TIME', 'AGENCY'], chunksize=chunk_size):\n",
      "/var/folders/s6/37bcs8j95w30c53jbkmzmjnh0000gn/T/ipykernel_19777/1486081519.py:8: DtypeWarning: Columns (4) have mixed types. Specify dtype option on import or set low_memory=False.\n",
      "  for chunk in pd.read_csv(file_path, usecols=['UNIQUE_ID', 'DATE_TIME', 'AGENCY'], chunksize=chunk_size):\n"
     ]
    },
    {
     "name": "stdout",
     "output_type": "stream",
     "text": [
      "    UNIQUE_ID               DATE_TIME\n",
      "3   114750600  02/16/2016 09:46:39 PM\n",
      "4   114750601  02/16/2016 01:13:21 PM\n",
      "15  114750612  02/16/2016 02:48:50 PM\n",
      "29  114750966  02/16/2016 12:49:51 PM\n",
      "99  114750699  02/16/2016 12:29:52 PM\n"
     ]
    },
    {
     "data": {
      "text/plain": [
       "(7595073, 2)"
      ]
     },
     "execution_count": 12,
     "metadata": {},
     "output_type": "execute_result"
    }
   ],
   "source": [
    "file_path = '311_Call_Center_Inquiry.csv'\n",
    "chunk_size = 1000000\n",
    "\n",
    "dataframes = []\n",
    "\n",
    "for chunk in pd.read_csv(file_path, usecols=['UNIQUE_ID', 'DATE_TIME', 'AGENCY'], chunksize=chunk_size):\n",
    "    chunk = chunk[chunk['AGENCY'] == '3-1-1'][['UNIQUE_ID', 'DATE_TIME']]\n",
    "    dataframes.append(chunk)\n",
    "\n",
    "# Concatenate all dataframes into a single dataframe\n",
    "df = pd.concat(dataframes)\n",
    "\n",
    "print(df.head())\n",
    "df.shape"
   ]
  },
  {
   "cell_type": "code",
   "execution_count": 14,
   "id": "f20312c4",
   "metadata": {},
   "outputs": [],
   "source": [
    "# df.to_csv('df_selection1.csv')"
   ]
  },
  {
   "cell_type": "code",
   "execution_count": null,
   "id": "7a25d0e6",
   "metadata": {},
   "outputs": [],
   "source": []
  }
 ],
 "metadata": {
  "kernelspec": {
   "display_name": "Python 3 (ipykernel)",
   "language": "python",
   "name": "python3"
  },
  "language_info": {
   "codemirror_mode": {
    "name": "ipython",
    "version": 3
   },
   "file_extension": ".py",
   "mimetype": "text/x-python",
   "name": "python",
   "nbconvert_exporter": "python",
   "pygments_lexer": "ipython3",
   "version": "3.9.12"
  }
 },
 "nbformat": 4,
 "nbformat_minor": 5
}
