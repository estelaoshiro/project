{
 "cells": [
  {
   "cell_type": "code",
   "execution_count": 1,
   "id": "a52e8953",
   "metadata": {},
   "outputs": [],
   "source": [
    "import pandas as pd\n",
    "#pd.set_option('display.max_rows', None)\n",
    "\n",
    "import matplotlib.pyplot as plt\n"
   ]
  },
  {
   "cell_type": "code",
   "execution_count": 2,
   "id": "4d533fac",
   "metadata": {},
   "outputs": [],
   "source": [
    "data = pd.read_csv(\"../data/dataset2.csv\", index_col=0)"
   ]
  },
  {
   "cell_type": "code",
   "execution_count": 3,
   "id": "b8611ff6",
   "metadata": {},
   "outputs": [
    {
     "data": {
      "text/html": [
       "<div>\n",
       "<style scoped>\n",
       "    .dataframe tbody tr th:only-of-type {\n",
       "        vertical-align: middle;\n",
       "    }\n",
       "\n",
       "    .dataframe tbody tr th {\n",
       "        vertical-align: top;\n",
       "    }\n",
       "\n",
       "    .dataframe thead th {\n",
       "        text-align: right;\n",
       "    }\n",
       "</style>\n",
       "<table border=\"1\" class=\"dataframe\">\n",
       "  <thead>\n",
       "    <tr style=\"text-align: right;\">\n",
       "      <th></th>\n",
       "      <th>Unique Key</th>\n",
       "      <th>Created Date</th>\n",
       "      <th>Closed Date</th>\n",
       "      <th>Agency</th>\n",
       "      <th>Agency Name</th>\n",
       "      <th>Complaint Type</th>\n",
       "      <th>Descriptor</th>\n",
       "      <th>City</th>\n",
       "      <th>Open Data Channel Type</th>\n",
       "      <th>Park Borough</th>\n",
       "      <th>Latitude</th>\n",
       "      <th>Longitude</th>\n",
       "    </tr>\n",
       "  </thead>\n",
       "  <tbody>\n",
       "    <tr>\n",
       "      <th>0</th>\n",
       "      <td>27933543</td>\n",
       "      <td>04/28/2014 02:28:38 PM</td>\n",
       "      <td>04/29/2014 10:20:57 AM</td>\n",
       "      <td>DOF</td>\n",
       "      <td>Adjudication - Hearing by Mail</td>\n",
       "      <td>DOF Parking - Request Status</td>\n",
       "      <td>Status of Hearing</td>\n",
       "      <td>NaN</td>\n",
       "      <td>PHONE</td>\n",
       "      <td>Unspecified</td>\n",
       "      <td>NaN</td>\n",
       "      <td>NaN</td>\n",
       "    </tr>\n",
       "    <tr>\n",
       "      <th>1</th>\n",
       "      <td>27937032</td>\n",
       "      <td>04/29/2014 01:08:53 PM</td>\n",
       "      <td>04/30/2014 11:54:35 AM</td>\n",
       "      <td>DOF</td>\n",
       "      <td>Property Exec Office</td>\n",
       "      <td>DOF Property - Owner Issue</td>\n",
       "      <td>Billing Address Incorrect</td>\n",
       "      <td>BRONX</td>\n",
       "      <td>PHONE</td>\n",
       "      <td>BRONX</td>\n",
       "      <td>NaN</td>\n",
       "      <td>NaN</td>\n",
       "    </tr>\n",
       "    <tr>\n",
       "      <th>2</th>\n",
       "      <td>40265884</td>\n",
       "      <td>09/13/2018 01:06:20 PM</td>\n",
       "      <td>NaN</td>\n",
       "      <td>DSNY</td>\n",
       "      <td>Department of Sanitation</td>\n",
       "      <td>Graffiti</td>\n",
       "      <td>Graffiti</td>\n",
       "      <td>NaN</td>\n",
       "      <td>UNKNOWN</td>\n",
       "      <td>BRONX</td>\n",
       "      <td>NaN</td>\n",
       "      <td>NaN</td>\n",
       "    </tr>\n",
       "    <tr>\n",
       "      <th>3</th>\n",
       "      <td>36221306</td>\n",
       "      <td>05/18/2017 11:28:50 AM</td>\n",
       "      <td>06/23/2017 12:00:00 AM</td>\n",
       "      <td>DSNY</td>\n",
       "      <td>Department of Sanitation</td>\n",
       "      <td>Graffiti</td>\n",
       "      <td>Graffiti</td>\n",
       "      <td>NEW YORK</td>\n",
       "      <td>UNKNOWN</td>\n",
       "      <td>MANHATTAN</td>\n",
       "      <td>40.779099</td>\n",
       "      <td>-73.95462</td>\n",
       "    </tr>\n",
       "    <tr>\n",
       "      <th>4</th>\n",
       "      <td>27946667</td>\n",
       "      <td>04/30/2014 03:00:27 PM</td>\n",
       "      <td>05/01/2014 10:48:35 AM</td>\n",
       "      <td>DOF</td>\n",
       "      <td>Condo or CoOp Unit</td>\n",
       "      <td>DOF Property - Reduction Issue</td>\n",
       "      <td>Condo or Co-op Abatement</td>\n",
       "      <td>NEW YORK</td>\n",
       "      <td>PHONE</td>\n",
       "      <td>MANHATTAN</td>\n",
       "      <td>NaN</td>\n",
       "      <td>NaN</td>\n",
       "    </tr>\n",
       "  </tbody>\n",
       "</table>\n",
       "</div>"
      ],
      "text/plain": [
       "   Unique Key            Created Date             Closed Date Agency  \\\n",
       "0    27933543  04/28/2014 02:28:38 PM  04/29/2014 10:20:57 AM    DOF   \n",
       "1    27937032  04/29/2014 01:08:53 PM  04/30/2014 11:54:35 AM    DOF   \n",
       "2    40265884  09/13/2018 01:06:20 PM                     NaN   DSNY   \n",
       "3    36221306  05/18/2017 11:28:50 AM  06/23/2017 12:00:00 AM   DSNY   \n",
       "4    27946667  04/30/2014 03:00:27 PM  05/01/2014 10:48:35 AM    DOF   \n",
       "\n",
       "                      Agency Name                  Complaint Type  \\\n",
       "0  Adjudication - Hearing by Mail    DOF Parking - Request Status   \n",
       "1            Property Exec Office      DOF Property - Owner Issue   \n",
       "2        Department of Sanitation                        Graffiti   \n",
       "3        Department of Sanitation                        Graffiti   \n",
       "4              Condo or CoOp Unit  DOF Property - Reduction Issue   \n",
       "\n",
       "                  Descriptor      City Open Data Channel Type Park Borough  \\\n",
       "0          Status of Hearing       NaN                  PHONE  Unspecified   \n",
       "1  Billing Address Incorrect     BRONX                  PHONE        BRONX   \n",
       "2                   Graffiti       NaN                UNKNOWN        BRONX   \n",
       "3                   Graffiti  NEW YORK                UNKNOWN    MANHATTAN   \n",
       "4   Condo or Co-op Abatement  NEW YORK                  PHONE    MANHATTAN   \n",
       "\n",
       "    Latitude  Longitude  \n",
       "0        NaN        NaN  \n",
       "1        NaN        NaN  \n",
       "2        NaN        NaN  \n",
       "3  40.779099  -73.95462  \n",
       "4        NaN        NaN  "
      ]
     },
     "execution_count": 3,
     "metadata": {},
     "output_type": "execute_result"
    }
   ],
   "source": [
    "data.head()"
   ]
  },
  {
   "cell_type": "code",
   "execution_count": 4,
   "id": "738128c1",
   "metadata": {},
   "outputs": [
    {
     "data": {
      "text/plain": [
       "(32412203, 12)"
      ]
     },
     "execution_count": 4,
     "metadata": {},
     "output_type": "execute_result"
    }
   ],
   "source": [
    "data.shape"
   ]
  },
  {
   "cell_type": "code",
   "execution_count": 5,
   "id": "9ad1787b",
   "metadata": {},
   "outputs": [],
   "source": [
    "#data.sort_values(by='Created Date')"
   ]
  },
  {
   "cell_type": "code",
   "execution_count": 6,
   "id": "dfc3a441",
   "metadata": {},
   "outputs": [],
   "source": [
    "# data['Created Date'] = pd.to_datetime(data['Created Date'])\n",
    "\n",
    "# year = 2016\n",
    "# data_filtered = data[data['Created Date'].dt.year == year]"
   ]
  },
  {
   "cell_type": "code",
   "execution_count": 7,
   "id": "a59d9eba",
   "metadata": {},
   "outputs": [],
   "source": [
    "# data_filtered"
   ]
  },
  {
   "cell_type": "code",
   "execution_count": 8,
   "id": "1695ef27",
   "metadata": {},
   "outputs": [
    {
     "data": {
      "text/plain": [
       "Agency\n",
       "NYPD     9420421\n",
       "HPD      7758920\n",
       "DOT      3766820\n",
       "DSNY     3742524\n",
       "DEP      2235388\n",
       "DOB      1482859\n",
       "DPR      1350701\n",
       "DOHMH     798800\n",
       "DOF       511021\n",
       "TLC       332672\n",
       "DHS       307399\n",
       "DCA       277487\n",
       "HRA       113953\n",
       "DFTA       95302\n",
       "EDC        82835\n",
       "OSE        70955\n",
       "DOE        23184\n",
       "3-1-1      20594\n",
       "NYCEM       8789\n",
       "DOITT       7438\n",
       "DCAS        1873\n",
       "ACS         1220\n",
       "TAX          461\n",
       "OTI          195\n",
       "DVS          123\n",
       "DCP           89\n",
       "DORIS         67\n",
       "FDNY          61\n",
       "TAT           22\n",
       "COIB          20\n",
       "CEO            5\n",
       "MOC            3\n",
       "OMB            2\n",
       "Name: Unique Key, dtype: int64"
      ]
     },
     "execution_count": 8,
     "metadata": {},
     "output_type": "execute_result"
    }
   ],
   "source": [
    "call_per_agency = data.groupby(['Agency'])['Unique Key'].count().sort_values(ascending=False)\n",
    "call_per_agency"
   ]
  },
  {
   "cell_type": "code",
   "execution_count": 9,
   "id": "e757b266",
   "metadata": {},
   "outputs": [
    {
     "data": {
      "image/png": "[encoded data removed]",
      "text/plain": [
       "<Figure size 640x480 with 1 Axes>"
      ]
     },
     "metadata": {},
     "output_type": "display_data"
    }
   ],
   "source": [
    "call_per_agency.plot.bar()\n",
    "plt.show()"
   ]
  },
  {
   "cell_type": "code",
   "execution_count": 10,
   "id": "cf83d6b2",
   "metadata": {},
   "outputs": [
    {
     "data": {
      "text/plain": [
       "array(['Unspecified', 'BRONX', 'MANHATTAN', 'QUEENS', 'BROOKLYN',\n",
       "       'STATEN ISLAND', nan], dtype=object)"
      ]
     },
     "execution_count": 10,
     "metadata": {},
     "output_type": "execute_result"
    }
   ],
   "source": [
    "data['Park Borough'].unique()"
   ]
  },
  {
   "cell_type": "code",
   "execution_count": 11,
   "id": "a8d7d21a",
   "metadata": {},
   "outputs": [
    {
     "data": {
      "text/plain": [
       "array([nan, 'BRONX', 'NEW YORK', ..., 'RADIO CITY STATION',\n",
       "       'NORTH PLAINFIELD', 'MENTOR'], dtype=object)"
      ]
     },
     "execution_count": 11,
     "metadata": {},
     "output_type": "execute_result"
    }
   ],
   "source": [
    "data['City'].unique()"
   ]
  },
  {
   "cell_type": "code",
   "execution_count": 12,
   "id": "17ec0b67",
   "metadata": {},
   "outputs": [
    {
     "data": {
      "text/plain": [
       "array(['PHONE', 'UNKNOWN', 'ONLINE', 'OTHER', 'MOBILE'], dtype=object)"
      ]
     },
     "execution_count": 12,
     "metadata": {},
     "output_type": "execute_result"
    }
   ],
   "source": [
    "data['Open Data Channel Type'].unique()"
   ]
  },
  {
   "cell_type": "code",
   "execution_count": 13,
   "id": "61af1f6c",
   "metadata": {},
   "outputs": [
    {
     "data": {
      "text/plain": [
       "1878"
      ]
     },
     "execution_count": 13,
     "metadata": {},
     "output_type": "execute_result"
    }
   ],
   "source": [
    "data['Descriptor'].nunique()"
   ]
  },
  {
   "cell_type": "code",
   "execution_count": 14,
   "id": "2f90b255",
   "metadata": {},
   "outputs": [
    {
     "data": {
      "text/plain": [
       "array(['DOF Parking - Request Status', 'DOF Property - Owner Issue',\n",
       "       'Graffiti', 'DOF Property - Reduction Issue', 'Street Condition',\n",
       "       'DOF Parking - Payment Issue', 'Sanitation Condition',\n",
       "       'Derelict Vehicles', 'DOF Parking - Request Copy',\n",
       "       'Dirty Conditions', 'Sewer', 'DOF Property - Request Copy',\n",
       "       'New Tree Request', 'Water Conservation',\n",
       "       'DOF Property - Payment Issue', 'Hazardous Materials',\n",
       "       'Overflowing Litter Baskets', 'Vacant Lot', 'Derelict Bicycle',\n",
       "       'Other Enforcement', 'Litter Basket / Request',\n",
       "       'Street Sign - Damaged', 'Traffic Signal Condition', 'Air Quality',\n",
       "       'SCRIE', 'Water System', 'Maintenance or Facility', 'Asbestos',\n",
       "       'Animal in a Park', 'Dead/Dying Tree',\n",
       "       'DOF Property - Update Account', 'Sweeping/Missed-Inadequate',\n",
       "       'Snow', 'Sweeping/Inadequate', 'Street Light Condition',\n",
       "       'Request Large Bulky Item Collection', 'OEM Literature Request',\n",
       "       'Missed Collection (All Materials)',\n",
       "       'DCA / DOH New License Application Request', 'HEAT/HOT WATER',\n",
       "       'DPR Internal', 'FATF', 'Found Property',\n",
       "       'DOF Parking - Tax Exemption', 'Electronics Waste Appointment',\n",
       "       'Special Projects Inspection Team (SPIT)',\n",
       "       'HPD Literature Request', 'Blocked Driveway', 'Lost Property',\n",
       "       'Question', 'For Hire Vehicle Report', 'Green Taxi Complaint',\n",
       "       'Adopt-A-Basket', 'Taxi Report', 'Day Care',\n",
       "       'DOF Parking - DMV Clearance', 'Homeless Person Assistance',\n",
       "       'UNSANITARY CONDITION', 'Unsanitary Condition',\n",
       "       'Illegal Tree Damage', 'DOF Property - RPIE Issue',\n",
       "       'Construction Safety Enforcement', 'DHS Advantage - Tenant',\n",
       "       'DOF Property - Property Value', 'General', 'Highway Condition',\n",
       "       'Elder Abuse', 'Damaged Tree', 'Taxi Compliment',\n",
       "       'Noise - Helicopter', 'Noise', 'Ferry Complaint', 'Taxi Complaint',\n",
       "       'Home Delivered Meal - Missed Delivery', 'Illegal Parking',\n",
       "       'Rodent', 'Outside Building', 'Noise - Vehicle', 'Safety',\n",
       "       'Noise - Street/Sidewalk', 'Noise - Commercial',\n",
       "       'Highway Sign - Damaged', 'Broken Parking Meter', 'Ferry Inquiry',\n",
       "       'Benefit Card Replacement', 'Street Sweeping Complaint',\n",
       "       'Violation of Park Rules', 'WATER LEAK', 'Noise - Park',\n",
       "       'Noise - Residential', 'Traffic', 'LinkNYC', 'Homeless Encampment',\n",
       "       'Consumer Complaint', 'Overgrown Tree/Branches',\n",
       "       'Street Sign - Missing', 'Encampment', 'Food Poisoning',\n",
       "       'Mobile Food Vendor', 'Standing Water', 'Smoking',\n",
       "       'Abandoned Vehicle', 'School Maintenance', 'Drinking',\n",
       "       'Panhandling', 'Harboring Bees/Wasps', 'Missed Collection',\n",
       "       'Bus Stop Shelter Complaint', 'Dead Animal', 'Illegal Fireworks',\n",
       "       'Bridge Condition', 'Obstruction',\n",
       "       'Unsanitary Animal Pvt Property', 'Derelict Vehicle',\n",
       "       'Root/Sewer/Sidewalk Condition', 'Wood Pile Remaining',\n",
       "       'Litter Basket Request', 'General Construction/Plumbing',\n",
       "       'Forensic Engineering', 'Animal-Abuse', 'Outdoor Dining',\n",
       "       'Sidewalk Condition', 'Broken Muni Meter',\n",
       "       'Illegal Animal Kept as Pet', 'Construction Lead Dust',\n",
       "       'Snow Removal', 'Non-Emergency Police Matter',\n",
       "       'Miscellaneous Categories', 'Emergency Response Team (ERT)',\n",
       "       'Electrical', 'Bike/Roller/Skate Chronic', 'BEST/Site Safety',\n",
       "       'Homeless Street Condition', 'Vending', 'Street Sign - Dangling',\n",
       "       'Dirty Condition', 'Dead Tree', 'DRIE', 'Illegal Dumping',\n",
       "       'For Hire Vehicle Complaint', 'Comments', 'Elevator', 'Plumbing',\n",
       "       'Building Marshals office', 'Investigations and Discipline (IAD)',\n",
       "       'Sustainability Enforcement', 'Highway Sign - Missing',\n",
       "       'Unsanitary Pigeon Condition', 'Uprooted Stump', 'Stalled Sites',\n",
       "       'Foam Ban Enforcement', 'DOF Property - City Rebate',\n",
       "       'Sweeping/Missed', 'Municipal Parking Facility', 'Plant',\n",
       "       'Lot Condition', 'Forms', 'Collection Truck Noise',\n",
       "       'hcvn1{{687*375}}gji51', \"Misc. Comments47876391' or ...\",\n",
       "       'file:///etc/passwd', '../../../WEB-INF/web.xml',\n",
       "       'Misc. Comments{${sleep(20)}}',\n",
       "       'Misc. Comments..\\\\..\\\\..\\\\..\\\\....', 'c:\\\\windows\\\\win.ini',\n",
       "       'Building/Use', 'Public Payphone Complaint', 'Indoor Sewage',\n",
       "       'Drug Activity', 'Snow or Ice', 'Curb Condition',\n",
       "       'DHS Advantage -Landlord/Broker', 'DHS Advantage - Third Party',\n",
       "       'Highway Sign - Dangling', 'Private or Charter School Reopening',\n",
       "       'Peeling Paint', 'Senior Center Complaint', 'Housing Options',\n",
       "       'Animal Facility - No Permit', 'Quality of Life',\n",
       "       'Home Delivered Meal Complaint', 'Boilers',\n",
       "       'COVID-19 Non-essential Construction', 'Indoor Air Quality',\n",
       "       'Industrial Waste', 'Noise - House of Worship',\n",
       "       'GENERAL CONSTRUCTION', 'Construction', 'HEATING', 'Pet Shop',\n",
       "       'ATF', 'Real Time Enforcement', 'Litter Basket Complaint',\n",
       "       'Illegal Animal Sold', 'Storm', 'Beach/Pool/Sauna Complaint',\n",
       "       'Urinating in Public', 'Recycling Enforcement', 'Borough Office',\n",
       "       'Calorie Labeling', 'Request Xmas Tree Collection', 'ELECTRIC',\n",
       "       'Housing - Low Income Senior', 'CONSTRUCTION', 'Parking Card',\n",
       "       'SRDE', 'Water Quality', 'OEM Disabled Vehicle',\n",
       "       'DHS Income Savings Requirement', 'E-Scooter',\n",
       "       'Literature Request', 'Window Guard', 'NONCONST',\n",
       "       'PAINT - PLASTER', 'Animal Abuse', 'HEAP Assistance',\n",
       "       'Home Repair', \"Alzheimer's Care\", 'Utility Program',\n",
       "       'Weatherization', 'Illegal Posting', 'Dumpster Complaint',\n",
       "       'Disorderly Youth', 'Bike Rack Condition', 'APPLIANCE', 'PLUMBING',\n",
       "       'Lead', 'Bottled Water', 'PAINT/PLASTER',\n",
       "       'Traffic/Illegal Parking', 'Posting Advertisement', 'Eviction',\n",
       "       'Food Establishment', 'Non-Residential Heat', 'Unleashed Dog',\n",
       "       'Unsanitary Animal Facility', 'Tattooing',\n",
       "       'Bereavement Support Group', 'DOF Parking - Address Update',\n",
       "       'City Vehicle Placard Complaint', 'Teaching/Learning/Instruction',\n",
       "       'Health', 'Cranes and Derricks', 'Mold',\n",
       "       'Discipline and Suspension', 'Portable Toilet',\n",
       "       'Bus Stop Shelter Placement', 'Registration and Transfers',\n",
       "       'Home Care Provider Complaint',\n",
       "       'Legal Services Provider Complaint',\n",
       "       'Transportation Provider Complaint',\n",
       "       'Case Management Agency Complaint', 'Parent Leadership',\n",
       "       'No Child Left Behind', 'Drinking Water', 'Ferry Permit',\n",
       "       'Poison Ivy', 'Radioactive Material', 'Scaffold Safety',\n",
       "       'Special Natural Area District (SNAD)', 'Squeegee',\n",
       "       'Tunnel Condition', 'DOF Property - State Rebate', 'Lifeguard',\n",
       "       'Trans Fat', 'Public Toilet', 'Water Maintenance', 'Summer Camp',\n",
       "       'X-Ray Machine/Equipment', 'Trapping Pigeon', 'Hazardous Material',\n",
       "       'GENERAL', 'NORC Complaint', 'Noise Survey', 'Building Condition',\n",
       "       'Interior Demo', 'Unlicensed Dog', 'Standpipe - Mechanical',\n",
       "       'DOF Literature Request', 'SNW', 'ZTESTINT', 'Facades',\n",
       "       'STRUCTURAL', 'Overflowing Recycling Baskets', 'SAFETY',\n",
       "       'DOOR/WINDOW', 'FLOORING/STAIRS', 'OUTSIDE BUILDING', 'ELEVATOR',\n",
       "       'Meals Home Delivery Required', 'VACANT APARTMENT', 'Tanning',\n",
       "       'AGENCY', 'SG-99', 'Advocate-SCRIE/DRIE',\n",
       "       'Advocate-Personal Exemptions', 'Advocate-Prop Class Incorrect',\n",
       "       'Advocate-Commercial Exemptions', 'Taxpayer Advocate Inquiry',\n",
       "       'Advocate - Other', 'Advocate - RPIE', 'Research Questions',\n",
       "       'Advocate-Prop Refunds/Credits', 'Advocate-Co-opCondo Abatement',\n",
       "       'DOR Literature Request', 'Advocate-Property Value',\n",
       "       'Advocate-UBT', 'Asbestos/Garbage Nuisance', 'Mosquitoes',\n",
       "       'Advocate-Business Tax', 'LEAD', 'Electronics Waste', 'MOLD',\n",
       "       'Cooling Tower', 'ZSYSTEST', 'Advocate - Lien', 'FCST',\n",
       "       'Advocate - Levy', 'Special Enforcement', 'Select Message Type...',\n",
       "       'Executive Inspections', 'Injured Wildlife', 'General Question',\n",
       "       'Illegal Animal - Sold/Kept', 'Homebound Evacuation 4',\n",
       "       'FHV Licensee Complaint', 'Taxi Licensee Complaint',\n",
       "       'Fire Alarm - Modification', 'Fire Alarm - New System',\n",
       "       'Open Flame Permit', 'Rangehood', 'Public Assembly',\n",
       "       'Fire Alarm - Reinspection', 'Hazmat Storage/Use',\n",
       "       'Dispatched Taxi Complaint', 'Sprinkler - Mechanical',\n",
       "       'Public Assembly - Temporary', 'Gas Station Discharge Lines',\n",
       "       'Dept of Investigations', 'Advocate-Foreclosure',\n",
       "       'Special Operations', \"(select load_file('\\\\\\\\\\\\\\\\615h...\",\n",
       "       '../../../WEB-INF/web.xml;x=',\n",
       "       '..\\\\..\\\\..\\\\..\\\\..\\\\..\\\\..\\\\..\\\\..\\\\...',\n",
       "       'Misc. Comments../../../../....', \"Misc. Comments69075347' or ...\",\n",
       "       '&lt;odb xmlns:xi=&quot;http...', '() { :;}; /bin/sleep 0',\n",
       "       '() { _; } &gt;_', '.../....///.../....///.../....',\n",
       "       '../../../../WEB-INF/web.xml', '266dyrgvhg1egsyp2oq57axbm2s...',\n",
       "       'Misc. Comments|nslookup -q=...', '/etc/passwd', '$(sleep 11)',\n",
       "       '%{4761*8506}', \"&quot;--&gt;'--&gt;`--&gt;&...\",\n",
       "       '*)(!(objectClass=*)', '.../Misc. Comments',\n",
       "       '../../../../../../../../../...', 'Misc. Comments);declare @q ...',\n",
       "       'Misc. Comments;declare @q v...', 'Misc. Comments|echo 3p7wexz...',\n",
       "       'c:\\\\windows\\\\win.ini Misc. Co...',\n",
       "       'nslookup -q=cname nneyfcxgy...', '%c0%ae/%c0%ae/%c0%ae/%c0%ae...',\n",
       "       '.../...//.../...//.../...//...',\n",
       "       '...\\\\.\\\\...\\\\.\\\\...\\\\.\\\\...\\\\.\\\\......', '../WEB-INF/web.xml',\n",
       "       '1430*4963', 'Misc. Comments&quot;',\n",
       "       'Misc. Comments|ping -n 21 1...', 'g0oii1s4s5)(objectClass=*',\n",
       "       \"kawn''lcgv\", '&lt;vlv xmlns=&quot;http://...',\n",
       "       'Misc. Comments&gt;  BCC:bl0...', \"Misc. Comments'(select*from...\",\n",
       "       \"Misc. Comments'+(function()...\", \"Misc. Comments'.sleep(20).'\",\n",
       "       \"Misc. Comments}}t2v95'/&quo...\", '%2e%2e%5c%2e%2e%5c%2e%2e%5c...',\n",
       "       '(select extractvalue(xmltyp...', 'Misc. Comments&amp;nslookup...',\n",
       "       'Misc. Comments&quot;|echo 2...', \"Misc. Comments');declare @q...\",\n",
       "       \"Misc. Comments'||(select ex...\", \"Misc. Comments88909845' or ...\",\n",
       "       'Misc. Commentso0w3r%&gt;xb6...', 'Misc. Comments|ping -c 21 1...',\n",
       "       '\\\\windows\\\\win.ini', '`sleep 11`', 'idexf3mrb7)(!(objectClass=*)',\n",
       "       '%E5%98%8A%E5%98%8DX-Injecti...', '() { :;}; /bin/sleep 11',\n",
       "       '..././..././..././..././......', '../../WEB-INF/web.xml;x=',\n",
       "       './validate_form.php', '/./validate_form.php', '@(9313*3464)',\n",
       "       \"Misc. Comments'+sleep(20.to...\", \"Misc. Comments'|ping -c 21 ...\",\n",
       "       'Misc. Comments]]&gt;&gt;&lt;', 'bcd9&lt;!--esi--&gt;1ggp&lt...',\n",
       "       'file:///c:/windows/win.ini', \"Misc. Comments%}dt2pq'/&quo...\",\n",
       "       'Misc. Comments&amp;echo xjd...', \"Misc. Comments'\",\n",
       "       \"Misc. Comments' and '1618'=...\", \"Misc. Comments' and (select...\",\n",
       "       \"Misc. Comments'+(select loa...\", \"Misc. Comments',0)waitfor d...\",\n",
       "       '%{(#dm=@ognl.OgnlContext@DE...',\n",
       "       '.../.\\\\.../.\\\\.../.\\\\.../.\\\\......', '../../WEB-INF/web.xml',\n",
       "       'qfix4${695*589}lixaf', \"Misc. Comments52038737' or ...\",\n",
       "       '%c0%ae/%c0%ae/WEB-INF/web.xml', '%c0%ae/WEB-INF/web.xml',\n",
       "       '...\\\\./...\\\\./...\\\\./...\\\\./......', '../WEB-INF/web.xml;x=',\n",
       "       'Misc. Comments  BCC:a5glxzf...', \"Misc. Comments' and '7835'=...\",\n",
       "       \"Misc. Comments' and 7702=77...\", \"Misc. Comments'&quot;`0&amp...\",\n",
       "       \"Misc. Comments'+(select*fro...\", 'Misc. Comments,(select*from...',\n",
       "       \"a'a\\\\'b&quot;c&gt;?&gt;%}}%%...\",\n",
       "       \"eval(compile('for x in rang...\", 'yw97y0gi2s',\n",
       "       \"{!xmlparser v='&lt;!DOCTYPE...\", '${3804*3137}',\n",
       "       '%2e%2e%2f%2e%2e%2f%2e%2e%2f...', '%2fetc%2fpasswd',\n",
       "       '%c0%ae/%c0%ae/%c0%ae/WEB-IN...', \"Misc. Comments' and 6049=60...\",\n",
       "       \"Misc. Comments' waitfor del...\", \"Misc. Comments')waitfor del...\",\n",
       "       \"Misc. Comments'|echo y9v6fc...\", 'Misc. Commentseowljujfh8',\n",
       "       'http://g7orz5h9iu2sh6z332rj...', 'Employee Behavior', 'MSOTHER',\n",
       "       'Internal Code', 'DSNY Spillage', 'DEP Street Condition',\n",
       "       'Green Taxi Report', 'Appliance', 'Single Occupancy Bathroom',\n",
       "       'DEP Sidewalk Condition', 'Water Leak', 'Electric',\n",
       "       'DEP Highway Condition', 'Request Changes - A.S.P.',\n",
       "       'Fire Alarm - Replacement', 'Dispatched Taxi Compliment', 'SRGOVG',\n",
       "       \"Building Marshal's Office\", 'NonCompliance with Phased Reopening',\n",
       "       'AHV Inspection Unit', 'Mass Gathering Complaint',\n",
       "       'Vaccine Mandate Non-Compliance', 'Change Collection Schedule',\n",
       "       'Abandoned Bike', 'Sanitation Worker or Vehicle Complaint',\n",
       "       'Residential Disposal Complaint', 'Commercial Disposal Complaint',\n",
       "       'DSNY Internal', 'Institution Disposal Complaint',\n",
       "       'Transfer Station Complaint', 'DEP Bridge Condition',\n",
       "       'Retailer Complaint', 'Recycling Basket Complaint',\n",
       "       'Incorrect Data', 'Seasonal Collection', 'Face Covering Violation',\n",
       "       'Private School Vaccine Mandate Non-Compliance',\n",
       "       'Oil or Gas Spill', 'Facade Insp Safety Pgm',\n",
       "       'Building Drinking Water Tank', '*)(objectClass=*',\n",
       "       'Misc. Comments&quot;|ping -...', \"Misc. Comments';declare @q ...\",\n",
       "       'Misc. Comments&amp;ping -n ...', \"Misc. Comments'+eval(compil...\"],\n",
       "      dtype=object)"
      ]
     },
     "execution_count": 14,
     "metadata": {},
     "output_type": "execute_result"
    }
   ],
   "source": [
    "data['Complaint Type'].unique()"
   ]
  },
  {
   "cell_type": "code",
   "execution_count": 15,
   "id": "ffbde42f",
   "metadata": {},
   "outputs": [
    {
     "data": {
      "text/plain": [
       "Complaint Type\n",
       "Noise - Residential               2998582\n",
       "HEAT/HOT WATER                    1928512\n",
       "Illegal Parking                   1905790\n",
       "Blocked Driveway                  1371218\n",
       "Street Condition                  1182850\n",
       "                                   ...   \n",
       "Misc. Comments'(select*from...          1\n",
       "Misc. Comments');declare @q...          1\n",
       "Misc. Comments')waitfor del...          1\n",
       "Misc. Comments'+(function()...          1\n",
       "{!xmlparser v='&lt;!DOCTYPE...          1\n",
       "Name: Unique Key, Length: 484, dtype: int64"
      ]
     },
     "execution_count": 15,
     "metadata": {},
     "output_type": "execute_result"
    }
   ],
   "source": [
    "call_per_complaint=data.groupby(['Complaint Type'])['Unique Key'].count().sort_values(ascending=False)\n",
    "call_per_complaint"
   ]
  },
  {
   "cell_type": "code",
   "execution_count": 16,
   "id": "7c5a9764",
   "metadata": {},
   "outputs": [],
   "source": [
    "call_per_complaint = call_per_complaint[call_per_complaint > 1]\n"
   ]
  },
  {
   "cell_type": "code",
   "execution_count": 17,
   "id": "aa60441f",
   "metadata": {},
   "outputs": [],
   "source": [
    "data = data.groupby('Complaint Type').filter(lambda x: x['Unique Key'].count() > 1)"
   ]
  },
  {
   "cell_type": "code",
   "execution_count": 18,
   "id": "4a35c073",
   "metadata": {},
   "outputs": [
    {
     "data": {
      "text/plain": [
       "(32412078, 12)"
      ]
     },
     "execution_count": 18,
     "metadata": {},
     "output_type": "execute_result"
    }
   ],
   "source": [
    "data.shape"
   ]
  },
  {
   "cell_type": "code",
   "execution_count": 19,
   "id": "3d73638a",
   "metadata": {},
   "outputs": [
    {
     "name": "stdout",
     "output_type": "stream",
     "text": [
      "<class 'pandas.core.frame.DataFrame'>\n",
      "Int64Index: 32412078 entries, 0 to 32415144\n",
      "Data columns (total 12 columns):\n",
      " #   Column                  Dtype  \n",
      "---  ------                  -----  \n",
      " 0   Unique Key              int64  \n",
      " 1   Created Date            object \n",
      " 2   Closed Date             object \n",
      " 3   Agency                  object \n",
      " 4   Agency Name             object \n",
      " 5   Complaint Type          object \n",
      " 6   Descriptor              object \n",
      " 7   City                    object \n",
      " 8   Open Data Channel Type  object \n",
      " 9   Park Borough            object \n",
      " 10  Latitude                float64\n",
      " 11  Longitude               float64\n",
      "dtypes: float64(2), int64(1), object(9)\n",
      "memory usage: 3.1+ GB\n"
     ]
    }
   ],
   "source": [
    "data.info()"
   ]
  },
  {
   "cell_type": "code",
   "execution_count": 20,
   "id": "d8625288",
   "metadata": {},
   "outputs": [
    {
     "data": {
      "text/plain": [
       "Unique Key                  int64\n",
       "Created Date               object\n",
       "Closed Date                object\n",
       "Agency                     object\n",
       "Agency Name                object\n",
       "Complaint Type             object\n",
       "Descriptor                 object\n",
       "City                       object\n",
       "Open Data Channel Type     object\n",
       "Park Borough               object\n",
       "Latitude                  float64\n",
       "Longitude                 float64\n",
       "dtype: object"
      ]
     },
     "execution_count": 20,
     "metadata": {},
     "output_type": "execute_result"
    }
   ],
   "source": [
    "data.dtypes"
   ]
  },
  {
   "cell_type": "code",
   "execution_count": 21,
   "id": "94d72792",
   "metadata": {},
   "outputs": [
    {
     "data": {
      "text/plain": [
       "Unique Key                      0\n",
       "Created Date                    0\n",
       "Closed Date                896485\n",
       "Agency                          0\n",
       "Agency Name                     0\n",
       "Complaint Type                  0\n",
       "Descriptor                 544101\n",
       "City                      1911825\n",
       "Open Data Channel Type          0\n",
       "Park Borough                47272\n",
       "Latitude                  2542265\n",
       "Longitude                 2542265\n",
       "dtype: int64"
      ]
     },
     "execution_count": 21,
     "metadata": {},
     "output_type": "execute_result"
    }
   ],
   "source": [
    "data.isna().sum()"
   ]
  },
  {
   "cell_type": "code",
   "execution_count": 22,
   "id": "9f463ea2",
   "metadata": {},
   "outputs": [
    {
     "ename": "KeyboardInterrupt",
     "evalue": "",
     "output_type": "error",
     "traceback": [
      "\u001b[0;31m---------------------------------------------------------------------------\u001b[0m",
      "\u001b[0;31mKeyboardInterrupt\u001b[0m                         Traceback (most recent call last)",
      "Cell \u001b[0;32mIn[22], line 2\u001b[0m\n\u001b[1;32m      1\u001b[0m data[\u001b[38;5;124m'\u001b[39m\u001b[38;5;124mCreated Date\u001b[39m\u001b[38;5;124m'\u001b[39m] \u001b[38;5;241m=\u001b[39m pd\u001b[38;5;241m.\u001b[39mto_datetime(data[\u001b[38;5;124m'\u001b[39m\u001b[38;5;124mCreated Date\u001b[39m\u001b[38;5;124m'\u001b[39m], errors\u001b[38;5;241m=\u001b[39m\u001b[38;5;124m'\u001b[39m\u001b[38;5;124mcoerce\u001b[39m\u001b[38;5;124m'\u001b[39m)\n\u001b[0;32m----> 2\u001b[0m data[\u001b[38;5;124m'\u001b[39m\u001b[38;5;124mClosed Date\u001b[39m\u001b[38;5;124m'\u001b[39m] \u001b[38;5;241m=\u001b[39m \u001b[43mpd\u001b[49m\u001b[38;5;241;43m.\u001b[39;49m\u001b[43mto_datetime\u001b[49m\u001b[43m(\u001b[49m\u001b[43mdata\u001b[49m\u001b[43m[\u001b[49m\u001b[38;5;124;43m'\u001b[39;49m\u001b[38;5;124;43mClosed Date\u001b[39;49m\u001b[38;5;124;43m'\u001b[39;49m\u001b[43m]\u001b[49m\u001b[43m,\u001b[49m\u001b[43m \u001b[49m\u001b[43merrors\u001b[49m\u001b[38;5;241;43m=\u001b[39;49m\u001b[38;5;124;43m'\u001b[39;49m\u001b[38;5;124;43mcoerce\u001b[39;49m\u001b[38;5;124;43m'\u001b[39;49m\u001b[43m)\u001b[49m\n",
      "File \u001b[0;32m~/opt/anaconda3/envs/finalproject/lib/python3.9/site-packages/pandas/core/tools/datetimes.py:1068\u001b[0m, in \u001b[0;36mto_datetime\u001b[0;34m(arg, errors, dayfirst, yearfirst, utc, format, exact, unit, infer_datetime_format, origin, cache)\u001b[0m\n\u001b[1;32m   1066\u001b[0m         result \u001b[38;5;241m=\u001b[39m arg\u001b[38;5;241m.\u001b[39mmap(cache_array)\n\u001b[1;32m   1067\u001b[0m     \u001b[38;5;28;01melse\u001b[39;00m:\n\u001b[0;32m-> 1068\u001b[0m         values \u001b[38;5;241m=\u001b[39m \u001b[43mconvert_listlike\u001b[49m\u001b[43m(\u001b[49m\u001b[43marg\u001b[49m\u001b[38;5;241;43m.\u001b[39;49m\u001b[43m_values\u001b[49m\u001b[43m,\u001b[49m\u001b[43m \u001b[49m\u001b[38;5;28;43mformat\u001b[39;49m\u001b[43m)\u001b[49m\n\u001b[1;32m   1069\u001b[0m         result \u001b[38;5;241m=\u001b[39m arg\u001b[38;5;241m.\u001b[39m_constructor(values, index\u001b[38;5;241m=\u001b[39marg\u001b[38;5;241m.\u001b[39mindex, name\u001b[38;5;241m=\u001b[39marg\u001b[38;5;241m.\u001b[39mname)\n\u001b[1;32m   1070\u001b[0m \u001b[38;5;28;01melif\u001b[39;00m \u001b[38;5;28misinstance\u001b[39m(arg, (ABCDataFrame, abc\u001b[38;5;241m.\u001b[39mMutableMapping)):\n",
      "File \u001b[0;32m~/opt/anaconda3/envs/finalproject/lib/python3.9/site-packages/pandas/core/tools/datetimes.py:438\u001b[0m, in \u001b[0;36m_convert_listlike_datetimes\u001b[0;34m(arg, format, name, tz, unit, errors, infer_datetime_format, dayfirst, yearfirst, exact)\u001b[0m\n\u001b[1;32m    436\u001b[0m \u001b[38;5;28;01massert\u001b[39;00m \u001b[38;5;28mformat\u001b[39m \u001b[38;5;129;01mis\u001b[39;00m \u001b[38;5;28;01mNone\u001b[39;00m \u001b[38;5;129;01mor\u001b[39;00m infer_datetime_format\n\u001b[1;32m    437\u001b[0m utc \u001b[38;5;241m=\u001b[39m tz \u001b[38;5;241m==\u001b[39m \u001b[38;5;124m\"\u001b[39m\u001b[38;5;124mutc\u001b[39m\u001b[38;5;124m\"\u001b[39m\n\u001b[0;32m--> 438\u001b[0m result, tz_parsed \u001b[38;5;241m=\u001b[39m \u001b[43mobjects_to_datetime64ns\u001b[49m\u001b[43m(\u001b[49m\n\u001b[1;32m    439\u001b[0m \u001b[43m    \u001b[49m\u001b[43marg\u001b[49m\u001b[43m,\u001b[49m\n\u001b[1;32m    440\u001b[0m \u001b[43m    \u001b[49m\u001b[43mdayfirst\u001b[49m\u001b[38;5;241;43m=\u001b[39;49m\u001b[43mdayfirst\u001b[49m\u001b[43m,\u001b[49m\n\u001b[1;32m    441\u001b[0m \u001b[43m    \u001b[49m\u001b[43myearfirst\u001b[49m\u001b[38;5;241;43m=\u001b[39;49m\u001b[43myearfirst\u001b[49m\u001b[43m,\u001b[49m\n\u001b[1;32m    442\u001b[0m \u001b[43m    \u001b[49m\u001b[43mutc\u001b[49m\u001b[38;5;241;43m=\u001b[39;49m\u001b[43mutc\u001b[49m\u001b[43m,\u001b[49m\n\u001b[1;32m    443\u001b[0m \u001b[43m    \u001b[49m\u001b[43merrors\u001b[49m\u001b[38;5;241;43m=\u001b[39;49m\u001b[43merrors\u001b[49m\u001b[43m,\u001b[49m\n\u001b[1;32m    444\u001b[0m \u001b[43m    \u001b[49m\u001b[43mrequire_iso8601\u001b[49m\u001b[38;5;241;43m=\u001b[39;49m\u001b[43mrequire_iso8601\u001b[49m\u001b[43m,\u001b[49m\n\u001b[1;32m    445\u001b[0m \u001b[43m    \u001b[49m\u001b[43mallow_object\u001b[49m\u001b[38;5;241;43m=\u001b[39;49m\u001b[38;5;28;43;01mTrue\u001b[39;49;00m\u001b[43m,\u001b[49m\n\u001b[1;32m    446\u001b[0m \u001b[43m\u001b[49m\u001b[43m)\u001b[49m\n\u001b[1;32m    448\u001b[0m \u001b[38;5;28;01mif\u001b[39;00m tz_parsed \u001b[38;5;129;01mis\u001b[39;00m \u001b[38;5;129;01mnot\u001b[39;00m \u001b[38;5;28;01mNone\u001b[39;00m:\n\u001b[1;32m    449\u001b[0m     \u001b[38;5;66;03m# We can take a shortcut since the datetime64 numpy array\u001b[39;00m\n\u001b[1;32m    450\u001b[0m     \u001b[38;5;66;03m# is in UTC\u001b[39;00m\n\u001b[1;32m    451\u001b[0m     dta \u001b[38;5;241m=\u001b[39m DatetimeArray(result, dtype\u001b[38;5;241m=\u001b[39mtz_to_dtype(tz_parsed))\n",
      "File \u001b[0;32m~/opt/anaconda3/envs/finalproject/lib/python3.9/site-packages/pandas/core/arrays/datetimes.py:2177\u001b[0m, in \u001b[0;36mobjects_to_datetime64ns\u001b[0;34m(data, dayfirst, yearfirst, utc, errors, require_iso8601, allow_object, allow_mixed)\u001b[0m\n\u001b[1;32m   2175\u001b[0m order: Literal[\u001b[38;5;124m\"\u001b[39m\u001b[38;5;124mF\u001b[39m\u001b[38;5;124m\"\u001b[39m, \u001b[38;5;124m\"\u001b[39m\u001b[38;5;124mC\u001b[39m\u001b[38;5;124m\"\u001b[39m] \u001b[38;5;241m=\u001b[39m \u001b[38;5;124m\"\u001b[39m\u001b[38;5;124mF\u001b[39m\u001b[38;5;124m\"\u001b[39m \u001b[38;5;28;01mif\u001b[39;00m flags\u001b[38;5;241m.\u001b[39mf_contiguous \u001b[38;5;28;01melse\u001b[39;00m \u001b[38;5;124m\"\u001b[39m\u001b[38;5;124mC\u001b[39m\u001b[38;5;124m\"\u001b[39m\n\u001b[1;32m   2176\u001b[0m \u001b[38;5;28;01mtry\u001b[39;00m:\n\u001b[0;32m-> 2177\u001b[0m     result, tz_parsed \u001b[38;5;241m=\u001b[39m \u001b[43mtslib\u001b[49m\u001b[38;5;241;43m.\u001b[39;49m\u001b[43marray_to_datetime\u001b[49m\u001b[43m(\u001b[49m\n\u001b[1;32m   2178\u001b[0m \u001b[43m        \u001b[49m\u001b[43mdata\u001b[49m\u001b[38;5;241;43m.\u001b[39;49m\u001b[43mravel\u001b[49m\u001b[43m(\u001b[49m\u001b[38;5;124;43m\"\u001b[39;49m\u001b[38;5;124;43mK\u001b[39;49m\u001b[38;5;124;43m\"\u001b[39;49m\u001b[43m)\u001b[49m\u001b[43m,\u001b[49m\n\u001b[1;32m   2179\u001b[0m \u001b[43m        \u001b[49m\u001b[43merrors\u001b[49m\u001b[38;5;241;43m=\u001b[39;49m\u001b[43merrors\u001b[49m\u001b[43m,\u001b[49m\n\u001b[1;32m   2180\u001b[0m \u001b[43m        \u001b[49m\u001b[43mutc\u001b[49m\u001b[38;5;241;43m=\u001b[39;49m\u001b[43mutc\u001b[49m\u001b[43m,\u001b[49m\n\u001b[1;32m   2181\u001b[0m \u001b[43m        \u001b[49m\u001b[43mdayfirst\u001b[49m\u001b[38;5;241;43m=\u001b[39;49m\u001b[43mdayfirst\u001b[49m\u001b[43m,\u001b[49m\n\u001b[1;32m   2182\u001b[0m \u001b[43m        \u001b[49m\u001b[43myearfirst\u001b[49m\u001b[38;5;241;43m=\u001b[39;49m\u001b[43myearfirst\u001b[49m\u001b[43m,\u001b[49m\n\u001b[1;32m   2183\u001b[0m \u001b[43m        \u001b[49m\u001b[43mrequire_iso8601\u001b[49m\u001b[38;5;241;43m=\u001b[39;49m\u001b[43mrequire_iso8601\u001b[49m\u001b[43m,\u001b[49m\n\u001b[1;32m   2184\u001b[0m \u001b[43m        \u001b[49m\u001b[43mallow_mixed\u001b[49m\u001b[38;5;241;43m=\u001b[39;49m\u001b[43mallow_mixed\u001b[49m\u001b[43m,\u001b[49m\n\u001b[1;32m   2185\u001b[0m \u001b[43m    \u001b[49m\u001b[43m)\u001b[49m\n\u001b[1;32m   2186\u001b[0m     result \u001b[38;5;241m=\u001b[39m result\u001b[38;5;241m.\u001b[39mreshape(data\u001b[38;5;241m.\u001b[39mshape, order\u001b[38;5;241m=\u001b[39morder)\n\u001b[1;32m   2187\u001b[0m \u001b[38;5;28;01mexcept\u001b[39;00m \u001b[38;5;167;01mOverflowError\u001b[39;00m \u001b[38;5;28;01mas\u001b[39;00m err:\n\u001b[1;32m   2188\u001b[0m     \u001b[38;5;66;03m# Exception is raised when a part of date is greater than 32 bit signed int\u001b[39;00m\n",
      "File \u001b[0;32m~/opt/anaconda3/envs/finalproject/lib/python3.9/site-packages/pandas/_libs/tslib.pyx:427\u001b[0m, in \u001b[0;36mpandas._libs.tslib.array_to_datetime\u001b[0;34m()\u001b[0m\n",
      "File \u001b[0;32m~/opt/anaconda3/envs/finalproject/lib/python3.9/site-packages/pandas/_libs/tslib.pyx:605\u001b[0m, in \u001b[0;36mpandas._libs.tslib.array_to_datetime\u001b[0;34m()\u001b[0m\n",
      "File \u001b[0;32m~/opt/anaconda3/envs/finalproject/lib/python3.9/site-packages/pandas/_libs/tslibs/parsing.pyx:318\u001b[0m, in \u001b[0;36mpandas._libs.tslibs.parsing.parse_datetime_string\u001b[0;34m()\u001b[0m\n",
      "File \u001b[0;32m~/opt/anaconda3/envs/finalproject/lib/python3.9/site-packages/dateutil/parser/_parser.py:1368\u001b[0m, in \u001b[0;36mparse\u001b[0;34m(timestr, parserinfo, **kwargs)\u001b[0m\n\u001b[1;32m   1366\u001b[0m     \u001b[38;5;28;01mreturn\u001b[39;00m parser(parserinfo)\u001b[38;5;241m.\u001b[39mparse(timestr, \u001b[38;5;241m*\u001b[39m\u001b[38;5;241m*\u001b[39mkwargs)\n\u001b[1;32m   1367\u001b[0m \u001b[38;5;28;01melse\u001b[39;00m:\n\u001b[0;32m-> 1368\u001b[0m     \u001b[38;5;28;01mreturn\u001b[39;00m \u001b[43mDEFAULTPARSER\u001b[49m\u001b[38;5;241;43m.\u001b[39;49m\u001b[43mparse\u001b[49m\u001b[43m(\u001b[49m\u001b[43mtimestr\u001b[49m\u001b[43m,\u001b[49m\u001b[43m \u001b[49m\u001b[38;5;241;43m*\u001b[39;49m\u001b[38;5;241;43m*\u001b[39;49m\u001b[43mkwargs\u001b[49m\u001b[43m)\u001b[49m\n",
      "File \u001b[0;32m~/opt/anaconda3/envs/finalproject/lib/python3.9/site-packages/dateutil/parser/_parser.py:640\u001b[0m, in \u001b[0;36mparser.parse\u001b[0;34m(self, timestr, default, ignoretz, tzinfos, **kwargs)\u001b[0m\n\u001b[1;32m    636\u001b[0m \u001b[38;5;28;01mif\u001b[39;00m default \u001b[38;5;129;01mis\u001b[39;00m \u001b[38;5;28;01mNone\u001b[39;00m:\n\u001b[1;32m    637\u001b[0m     default \u001b[38;5;241m=\u001b[39m datetime\u001b[38;5;241m.\u001b[39mdatetime\u001b[38;5;241m.\u001b[39mnow()\u001b[38;5;241m.\u001b[39mreplace(hour\u001b[38;5;241m=\u001b[39m\u001b[38;5;241m0\u001b[39m, minute\u001b[38;5;241m=\u001b[39m\u001b[38;5;241m0\u001b[39m,\n\u001b[1;32m    638\u001b[0m                                               second\u001b[38;5;241m=\u001b[39m\u001b[38;5;241m0\u001b[39m, microsecond\u001b[38;5;241m=\u001b[39m\u001b[38;5;241m0\u001b[39m)\n\u001b[0;32m--> 640\u001b[0m res, skipped_tokens \u001b[38;5;241m=\u001b[39m \u001b[38;5;28;43mself\u001b[39;49m\u001b[38;5;241;43m.\u001b[39;49m\u001b[43m_parse\u001b[49m\u001b[43m(\u001b[49m\u001b[43mtimestr\u001b[49m\u001b[43m,\u001b[49m\u001b[43m \u001b[49m\u001b[38;5;241;43m*\u001b[39;49m\u001b[38;5;241;43m*\u001b[39;49m\u001b[43mkwargs\u001b[49m\u001b[43m)\u001b[49m\n\u001b[1;32m    642\u001b[0m \u001b[38;5;28;01mif\u001b[39;00m res \u001b[38;5;129;01mis\u001b[39;00m \u001b[38;5;28;01mNone\u001b[39;00m:\n\u001b[1;32m    643\u001b[0m     \u001b[38;5;28;01mraise\u001b[39;00m ParserError(\u001b[38;5;124m\"\u001b[39m\u001b[38;5;124mUnknown string format: \u001b[39m\u001b[38;5;132;01m%s\u001b[39;00m\u001b[38;5;124m\"\u001b[39m, timestr)\n",
      "File \u001b[0;32m~/opt/anaconda3/envs/finalproject/lib/python3.9/site-packages/dateutil/parser/_parser.py:719\u001b[0m, in \u001b[0;36mparser._parse\u001b[0;34m(self, timestr, dayfirst, yearfirst, fuzzy, fuzzy_with_tokens)\u001b[0m\n\u001b[1;32m    716\u001b[0m     yearfirst \u001b[38;5;241m=\u001b[39m info\u001b[38;5;241m.\u001b[39myearfirst\n\u001b[1;32m    718\u001b[0m res \u001b[38;5;241m=\u001b[39m \u001b[38;5;28mself\u001b[39m\u001b[38;5;241m.\u001b[39m_result()\n\u001b[0;32m--> 719\u001b[0m l \u001b[38;5;241m=\u001b[39m \u001b[43m_timelex\u001b[49m\u001b[38;5;241;43m.\u001b[39;49m\u001b[43msplit\u001b[49m\u001b[43m(\u001b[49m\u001b[43mtimestr\u001b[49m\u001b[43m)\u001b[49m         \u001b[38;5;66;03m# Splits the timestr into tokens\u001b[39;00m\n\u001b[1;32m    721\u001b[0m skipped_idxs \u001b[38;5;241m=\u001b[39m []\n\u001b[1;32m    723\u001b[0m \u001b[38;5;66;03m# year/month/day list\u001b[39;00m\n",
      "File \u001b[0;32m~/opt/anaconda3/envs/finalproject/lib/python3.9/site-packages/dateutil/parser/_parser.py:201\u001b[0m, in \u001b[0;36m_timelex.split\u001b[0;34m(cls, s)\u001b[0m\n\u001b[1;32m    199\u001b[0m \u001b[38;5;129m@classmethod\u001b[39m\n\u001b[1;32m    200\u001b[0m \u001b[38;5;28;01mdef\u001b[39;00m \u001b[38;5;21msplit\u001b[39m(\u001b[38;5;28mcls\u001b[39m, s):\n\u001b[0;32m--> 201\u001b[0m     \u001b[38;5;28;01mreturn\u001b[39;00m \u001b[38;5;28;43mlist\u001b[39;49m\u001b[43m(\u001b[49m\u001b[38;5;28;43mcls\u001b[39;49m\u001b[43m(\u001b[49m\u001b[43ms\u001b[49m\u001b[43m)\u001b[49m\u001b[43m)\u001b[49m\n",
      "File \u001b[0;32m~/opt/anaconda3/envs/finalproject/lib/python3.9/site-packages/dateutil/parser/_parser.py:190\u001b[0m, in \u001b[0;36m_timelex.__next__\u001b[0;34m(self)\u001b[0m\n\u001b[1;32m    189\u001b[0m \u001b[38;5;28;01mdef\u001b[39;00m \u001b[38;5;21m__next__\u001b[39m(\u001b[38;5;28mself\u001b[39m):\n\u001b[0;32m--> 190\u001b[0m     token \u001b[38;5;241m=\u001b[39m \u001b[38;5;28;43mself\u001b[39;49m\u001b[38;5;241;43m.\u001b[39;49m\u001b[43mget_token\u001b[49m\u001b[43m(\u001b[49m\u001b[43m)\u001b[49m\n\u001b[1;32m    191\u001b[0m     \u001b[38;5;28;01mif\u001b[39;00m token \u001b[38;5;129;01mis\u001b[39;00m \u001b[38;5;28;01mNone\u001b[39;00m:\n\u001b[1;32m    192\u001b[0m         \u001b[38;5;28;01mraise\u001b[39;00m \u001b[38;5;167;01mStopIteration\u001b[39;00m\n",
      "File \u001b[0;32m~/opt/anaconda3/envs/finalproject/lib/python3.9/site-packages/dateutil/parser/_parser.py:119\u001b[0m, in \u001b[0;36m_timelex.get_token\u001b[0;34m(self)\u001b[0m\n\u001b[1;32m    117\u001b[0m \u001b[38;5;28;01mif\u001b[39;00m \u001b[38;5;28mself\u001b[39m\u001b[38;5;241m.\u001b[39misword(nextchar):\n\u001b[1;32m    118\u001b[0m     state \u001b[38;5;241m=\u001b[39m \u001b[38;5;124m'\u001b[39m\u001b[38;5;124ma\u001b[39m\u001b[38;5;124m'\u001b[39m\n\u001b[0;32m--> 119\u001b[0m \u001b[38;5;28;01melif\u001b[39;00m \u001b[38;5;28;43mself\u001b[39;49m\u001b[38;5;241;43m.\u001b[39;49m\u001b[43misnum\u001b[49m\u001b[43m(\u001b[49m\u001b[43mnextchar\u001b[49m\u001b[43m)\u001b[49m:\n\u001b[1;32m    120\u001b[0m     state \u001b[38;5;241m=\u001b[39m \u001b[38;5;124m'\u001b[39m\u001b[38;5;124m0\u001b[39m\u001b[38;5;124m'\u001b[39m\n\u001b[1;32m    121\u001b[0m \u001b[38;5;28;01melif\u001b[39;00m \u001b[38;5;28mself\u001b[39m\u001b[38;5;241m.\u001b[39misspace(nextchar):\n",
      "File \u001b[0;32m~/opt/anaconda3/envs/finalproject/lib/python3.9/site-packages/dateutil/parser/_parser.py:211\u001b[0m, in \u001b[0;36m_timelex.isnum\u001b[0;34m(cls, nextchar)\u001b[0m\n\u001b[1;32m    208\u001b[0m \u001b[38;5;129m@classmethod\u001b[39m\n\u001b[1;32m    209\u001b[0m \u001b[38;5;28;01mdef\u001b[39;00m \u001b[38;5;21misnum\u001b[39m(\u001b[38;5;28mcls\u001b[39m, nextchar):\n\u001b[1;32m    210\u001b[0m     \u001b[38;5;124;03m\"\"\" Whether the next character is part of a number \"\"\"\u001b[39;00m\n\u001b[0;32m--> 211\u001b[0m     \u001b[38;5;28;01mreturn\u001b[39;00m \u001b[43mnextchar\u001b[49m\u001b[38;5;241;43m.\u001b[39;49m\u001b[43misdigit\u001b[49m\u001b[43m(\u001b[49m\u001b[43m)\u001b[49m\n",
      "\u001b[0;31mKeyboardInterrupt\u001b[0m: "
     ]
    }
   ],
   "source": [
    "data['Created Date'] = pd.to_datetime(data['Created Date'], errors='coerce')\n",
    "data['Closed Date'] = pd.to_datetime(data['Closed Date'], errors='coerce')\n"
   ]
  },
  {
   "cell_type": "code",
   "execution_count": null,
   "id": "e84bca69",
   "metadata": {},
   "outputs": [],
   "source": [
    "data.head()"
   ]
  },
  {
   "cell_type": "code",
   "execution_count": null,
   "id": "4489f158",
   "metadata": {},
   "outputs": [],
   "source": [
    "data['diff'] = data['Closed Date'] - data['Created Date']"
   ]
  },
  {
   "cell_type": "code",
   "execution_count": null,
   "id": "b54ea057",
   "metadata": {},
   "outputs": [],
   "source": [
    "data.shape"
   ]
  },
  {
   "cell_type": "code",
   "execution_count": null,
   "id": "2340f6c8",
   "metadata": {},
   "outputs": [],
   "source": [
    "data = data[data['Park Borough']!='Unspecified']\n"
   ]
  },
  {
   "cell_type": "code",
   "execution_count": null,
   "id": "8099c9be",
   "metadata": {},
   "outputs": [],
   "source": [
    "data.shape"
   ]
  },
  {
   "cell_type": "code",
   "execution_count": null,
   "id": "696fa308",
   "metadata": {},
   "outputs": [],
   "source": [
    "data = data[data['Closed Date'].notnull()]\n",
    "data = data[data['Latitude'].notnull()]\n",
    "data = data[data['Park Borough'].notnull()]\n",
    "\n",
    "\n"
   ]
  },
  {
   "cell_type": "code",
   "execution_count": null,
   "id": "cb7df0d9",
   "metadata": {},
   "outputs": [],
   "source": [
    "data.shape"
   ]
  },
  {
   "cell_type": "code",
   "execution_count": null,
   "id": "c5dd4052",
   "metadata": {},
   "outputs": [],
   "source": [
    "data.isna().sum()"
   ]
  },
  {
   "cell_type": "code",
   "execution_count": null,
   "id": "044d9056",
   "metadata": {},
   "outputs": [],
   "source": [
    "data = data[data['City'].notnull()]\n",
    "\n"
   ]
  },
  {
   "cell_type": "code",
   "execution_count": null,
   "id": "c87f0fc2",
   "metadata": {},
   "outputs": [],
   "source": [
    "data=data.drop(['Descriptor'], axis=1)"
   ]
  },
  {
   "cell_type": "code",
   "execution_count": null,
   "id": "b01cedf9",
   "metadata": {},
   "outputs": [],
   "source": [
    "data.shape"
   ]
  },
  {
   "cell_type": "code",
   "execution_count": null,
   "id": "bc7587cf",
   "metadata": {},
   "outputs": [],
   "source": [
    "data[data['Park Borough'].isna()]['Complaint Type']\n"
   ]
  },
  {
   "cell_type": "code",
   "execution_count": null,
   "id": "bb5cde11",
   "metadata": {},
   "outputs": [],
   "source": [
    "data[data['Agency Name'] == 'New York City Police Department']['Complaint Type'].value_counts()\n"
   ]
  },
  {
   "cell_type": "code",
   "execution_count": null,
   "id": "63049ac3",
   "metadata": {},
   "outputs": [],
   "source": [
    "data[data['Agency Name'] == 'New York City Police Department']['Park Borough'].value_counts()\n",
    "\n"
   ]
  },
  {
   "cell_type": "code",
   "execution_count": null,
   "id": "88fae6b8",
   "metadata": {},
   "outputs": [],
   "source": [
    "def upper_case(x):\n",
    "    return x.upper()"
   ]
  },
  {
   "cell_type": "code",
   "execution_count": null,
   "id": "9d454c25",
   "metadata": {},
   "outputs": [],
   "source": [
    "data['Complaint Type'] = data['Complaint Type'].apply(upper_case)\n"
   ]
  },
  {
   "cell_type": "code",
   "execution_count": null,
   "id": "74b3a8f4",
   "metadata": {},
   "outputs": [],
   "source": [
    "data[data['Agency Name'] == 'Department of Housing Preservation and Development']['Complaint Type'].value_counts()\n",
    "\n"
   ]
  },
  {
   "cell_type": "code",
   "execution_count": null,
   "id": "70143f4b",
   "metadata": {},
   "outputs": [],
   "source": [
    "data[data['Agency Name'] == 'Department of Transportation']['Complaint Type'].value_counts()\n",
    "\n"
   ]
  },
  {
   "cell_type": "code",
   "execution_count": null,
   "id": "3be17f75",
   "metadata": {},
   "outputs": [],
   "source": [
    "#data.to_csv('dataset2_clean.csv')"
   ]
  },
  {
   "cell_type": "code",
   "execution_count": null,
   "id": "fb5e1d48",
   "metadata": {},
   "outputs": [],
   "source": [
    "data.shape"
   ]
  },
  {
   "cell_type": "code",
   "execution_count": null,
   "id": "b2d22030",
   "metadata": {},
   "outputs": [],
   "source": [
    "data.isna().sum()\n"
   ]
  },
  {
   "cell_type": "code",
   "execution_count": null,
   "id": "941e7216",
   "metadata": {},
   "outputs": [],
   "source": [
    "agency = pd.pivot_table(data, values='Complaint Type', index=['Agency'], aggfunc='count').sort_values(by='Complaint Type', ascending=False)\n",
    "agency"
   ]
  },
  {
   "cell_type": "code",
   "execution_count": null,
   "id": "f111e440",
   "metadata": {},
   "outputs": [],
   "source": [
    "agency.reset_index()"
   ]
  },
  {
   "cell_type": "code",
   "execution_count": null,
   "id": "3dc7d3fe",
   "metadata": {},
   "outputs": [],
   "source": [
    "data=data[data['Agency']!='DOF']\n",
    "data=data[data['Agency']!='DOITT']\n",
    "data=data[data['Agency']!='DFTA']\n",
    "data=data[data['Agency']!='OTI']\n",
    "data=data[data['Agency']!='NYCEM']\n",
    "data=data[data['Agency']!='HRA']"
   ]
  },
  {
   "cell_type": "code",
   "execution_count": null,
   "id": "1378df54",
   "metadata": {},
   "outputs": [],
   "source": [
    "data.shape"
   ]
  },
  {
   "cell_type": "code",
   "execution_count": null,
   "id": "d94fc1b3",
   "metadata": {},
   "outputs": [],
   "source": [
    "n_complaint = pd.pivot_table(data, values='Complaint Type', index=['Agency Name'], aggfunc='count').sort_values(by='Complaint Type', ascending=False)\n",
    "n_complaint"
   ]
  },
  {
   "cell_type": "code",
   "execution_count": null,
   "id": "71d39fb6",
   "metadata": {
    "scrolled": false
   },
   "outputs": [],
   "source": [
    "filter1 = n_complaint[n_complaint['Complaint Type']<=10000]\n",
    "filter1.reset_index\n",
    "filter1.index\n"
   ]
  },
  {
   "cell_type": "code",
   "execution_count": null,
   "id": "a6a47a8f",
   "metadata": {},
   "outputs": [],
   "source": [
    "keep_list = ['New York City Police Department',\n",
    "       'Department of Housing Preservation and Development',\n",
    "       'Department of Transportation', 'Department of Sanitation',\n",
    "       'Department of Environmental Protection', 'Department of Buildings',\n",
    "       'Department of Parks and Recreation',\n",
    "       'Department of Health and Mental Hygiene',\n",
    "       'Taxi and Limousine Commission', 'Department of Consumer Affairs',\n",
    "       'Department of Homeless Services', 'Correspondence Unit',\n",
    "       'Department for the Aging',\n",
    "       'Senior Citizen Rent Increase Exemption Unit',\n",
    "       'Operations Unit - Department of Homeless Services',\n",
    "       'DHS Advantage Programs', 'Mayorâs Office of Special Enforcement',\n",
    "       'Personal Exemption Unit', 'Property Exec Office',\n",
    "       'Economic Development Corporation', 'DOB Inspections - Queens',\n",
    "       'Refunds and Adjustments', 'Land Records', '3-1-1 Call Center',\n",
    "       'Exemption Unit', 'Condo or CoOp Unit', 'Accounts Examination']\n"
   ]
  },
  {
   "cell_type": "code",
   "execution_count": null,
   "id": "2cd60ec7",
   "metadata": {},
   "outputs": [],
   "source": [
    "#data[data['Agency Name'].isin(keep_list)]\n",
    "\n"
   ]
  },
  {
   "cell_type": "code",
   "execution_count": null,
   "id": "be2fa21a",
   "metadata": {},
   "outputs": [],
   "source": [
    "data.shape"
   ]
  },
  {
   "cell_type": "code",
   "execution_count": null,
   "id": "f975607c",
   "metadata": {},
   "outputs": [],
   "source": []
  }
 ],
 "metadata": {
  "kernelspec": {
   "display_name": "Python 3 (ipykernel)",
   "language": "python",
   "name": "python3"
  },
  "language_info": {
   "codemirror_mode": {
    "name": "ipython",
    "version": 3
   },
   "file_extension": ".py",
   "mimetype": "text/x-python",
   "name": "python",
   "nbconvert_exporter": "python",
   "pygments_lexer": "ipython3",
   "version": "3.9.16"
  }
 },
 "nbformat": 4,
 "nbformat_minor": 5
}
